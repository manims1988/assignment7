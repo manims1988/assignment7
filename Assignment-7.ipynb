{
 "cells": [
  {
   "cell_type": "markdown",
   "id": "20c13cb1-e562-4dce-88c8-401b4dcb66f3",
   "metadata": {},
   "source": [
    "Q.1. Create two int type variables, apply addition, subtraction, division and multiplications\n",
    "and store the results in variables. Then print the data in the following format by calling the\n",
    "variables:\n",
    "First variable is __ & second variable is __.\n",
    "Addition: __ + __ = __\n",
    "Subtraction: __ - __ = __\n",
    "Multiplication: __ * __ = __\n",
    "Division: __ / __ = __"
   ]
  },
  {
   "cell_type": "code",
   "execution_count": 7,
   "id": "0db58f9f-2f7d-4245-be90-7a0ac99caaaa",
   "metadata": {},
   "outputs": [
    {
     "name": "stdout",
     "output_type": "stream",
     "text": [
      "First variable is 9 & second variable is 4\n",
      "Addition: 9 + 4 = 13\n",
      "Subtraction: 9 - 4 = 5\n",
      "Addition: 9 * 4 = 36\n",
      "Addition: 9 / 4 = 2.25\n"
     ]
    }
   ],
   "source": [
    "# Answer \n",
    "\n",
    "x = 9\n",
    "y = 4\n",
    "print(f'First variable is {x} & second variable is {y}')\n",
    "z1 = x + y\n",
    "print(f'Addition: {x} + {y} = {z1}')\n",
    "z2 = x - y\n",
    "print(f'Subtraction: {x} - {y} = {z2}')\n",
    "z3 = x * y\n",
    "print(f'Addition: {x} * {y} = {z3}')\n",
    "z4 = x / y\n",
    "print(f'Addition: {x} / {y} = {z4}')"
   ]
  },
  {
   "cell_type": "markdown",
   "id": "85a4395a-e823-4dc8-b8a5-eab957833004",
   "metadata": {},
   "source": [
    "Q.2. What is the difference between the following operators:\n",
    "(i) ‘/’ & ‘//’\n",
    "(ii) ‘**’ & ‘^’"
   ]
  },
  {
   "cell_type": "code",
   "execution_count": 4,
   "id": "e3eeda36-5bfb-4088-846f-e2e3c8c01d62",
   "metadata": {},
   "outputs": [
    {
     "name": "stdout",
     "output_type": "stream",
     "text": [
      "‘/’ --> Divison operator and it returns the quotient as a floating-point number \n",
      "‘//’ --> Floor Divison operator and it returns the quotient as an integer\n",
      "10 / 3 --> 3.3333333333333335\n",
      "10 // 3 --> 3\n",
      "‘**’ --> exponential operator which means left operand to the power of the right operand \n",
      "‘^’  --> bitwise XOR operator\n",
      "2 ** 3 --> 8\n",
      "3 ^ 2 --> 1\n"
     ]
    }
   ],
   "source": [
    "# Answer \n",
    "\n",
    "print('‘/’ --> Divison operator and it returns the quotient as a floating-point number \\n‘//’ --> Floor Divison operator and it returns the quotient as an integer')\n",
    "print('10 / 3 -->',10 / 3)\n",
    "print('10 // 3 -->',10 // 3)\n",
    "print('‘**’ --> exponential operator which means left operand to the power of the right operand \\n‘^’  --> bitwise XOR operator')\n",
    "print('2 ** 3 -->',2 ** 3)\n",
    "print('3 ^ 2 -->',3 ^ 2)"
   ]
  },
  {
   "cell_type": "markdown",
   "id": "ffdf515b-b2b0-48ce-9d2f-e981b5374f95",
   "metadata": {},
   "source": [
    "Q.3. List the logical operators."
   ]
  },
  {
   "cell_type": "code",
   "execution_count": 6,
   "id": "dad44e51-bba0-4767-a789-bfc2cccd76de",
   "metadata": {},
   "outputs": [
    {
     "name": "stdout",
     "output_type": "stream",
     "text": [
      "There are three operators\n",
      "1. and\n",
      "2. or\n",
      "3. xor\n",
      "example program\n",
      "True\n",
      "True\n",
      "True\n"
     ]
    }
   ],
   "source": [
    "# Answer \n",
    "\n",
    "print('There are three operators')\n",
    "print('1. and')\n",
    "print('2. or')\n",
    "print('3. xor')\n",
    "print('example program')\n",
    "print((3 > 1) and (5 < 7))\n",
    "print((1 > 10) or (10 > 1))\n",
    "print(not (1 > 10))"
   ]
  },
  {
   "cell_type": "markdown",
   "id": "7863b35a-6115-4975-baa6-acf13e1b95d9",
   "metadata": {},
   "source": [
    "Q.4. Explain right shift operator and left shift operator with examples."
   ]
  },
  {
   "cell_type": "code",
   "execution_count": 13,
   "id": "dbc5da5d-2017-4e44-a112-2729dfd575bc",
   "metadata": {},
   "outputs": [
    {
     "name": "stdout",
     "output_type": "stream",
     "text": [
      "right Shift operator\n",
      "11 >> 2 --> 2\n",
      "Explanation --> binary format of left operand 10 is \"1011\" and now shifting last 2 bits from right so the result is \"10\" which is \"2\"\n",
      "left Shift operator\n",
      "5 << 2 --> 20\n",
      "Explanation --> binary format of left operand 5 is \"101\" and adding last 2 bits \"00\" from right so the binary becomes \"10100\" which is \"20\"\n"
     ]
    }
   ],
   "source": [
    "# Answer \n",
    "\n",
    "print('right Shift operator')\n",
    "print('11 >> 2 -->',11 >> 2)\n",
    "print('Explanation --> binary format of left operand 10 is \"1011\" and now shifting last 2 bits from right so the result is \"10\" which is \"2\"')\n",
    "print('left Shift operator')\n",
    "print('5 << 2 -->',5 << 2)\n",
    "print('Explanation --> binary format of left operand 5 is \"101\" and adding last 2 bits \"00\" from right so the binary becomes \"10100\" which is \"20\"')"
   ]
  },
  {
   "cell_type": "markdown",
   "id": "af287b03-c5ee-4cfd-b880-6d051fa00221",
   "metadata": {},
   "source": [
    "Q.5. Create a list containing int type data of length 15. Then write a code to check if 10 is\n",
    "present in the list or not."
   ]
  },
  {
   "cell_type": "code",
   "execution_count": 36,
   "id": "7d524459-95ee-4c5e-93ff-3e947bea62c6",
   "metadata": {},
   "outputs": [
    {
     "name": "stdout",
     "output_type": "stream",
     "text": [
      "[1, 2, 3, 4, 5, 6, 7, 8, 9, 10, 11, 12, 13, 14, 15]\n",
      "length is: 15\n",
      "Index 9 has value 10\n"
     ]
    }
   ],
   "source": [
    "# Answer \n",
    "\n",
    "empty_list = []\n",
    "for i in range(1,16):\n",
    "    empty_list.append(i)\n",
    "print(empty_list)\n",
    "print('length is:',len(empty_list))\n",
    "for j in range(len(empty_list)):\n",
    "    if empty_list[j] == 10:\n",
    "        print(f'Index {j} has value {empty_list[j]}')"
   ]
  }
 ],
 "metadata": {
  "kernelspec": {
   "display_name": "Python 3 (ipykernel)",
   "language": "python",
   "name": "python3"
  },
  "language_info": {
   "codemirror_mode": {
    "name": "ipython",
    "version": 3
   },
   "file_extension": ".py",
   "mimetype": "text/x-python",
   "name": "python",
   "nbconvert_exporter": "python",
   "pygments_lexer": "ipython3",
   "version": "3.10.6"
  }
 },
 "nbformat": 4,
 "nbformat_minor": 5
}
